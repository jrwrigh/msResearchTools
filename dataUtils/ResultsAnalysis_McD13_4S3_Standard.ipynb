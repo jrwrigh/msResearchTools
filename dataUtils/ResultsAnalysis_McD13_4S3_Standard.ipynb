{
 "cells": [
  {
   "cell_type": "code",
   "execution_count": null,
   "metadata": {},
   "outputs": [],
   "source": [
    "import matplotlib.pyplot as plt\n",
    "import pandas as pd\n",
    "from pathlib import Path\n",
    "import re\n",
    "\n",
    "filename = Path('courantnumber_max-rfile.out')\n",
    "\n",
    "def get_headers(file, headerline, regexstring, exclude):\n",
    "    # Get string of selected headerline\n",
    "    # with file.open() as f:\n",
    "    f = file.open()\n",
    "    for i, line in enumerate(f):\n",
    "        if i == headerline-1:\n",
    "            headerstring = line\n",
    "        elif i > headerline-1:\n",
    "            break\n",
    "\n",
    "    # Parse headerstring\n",
    "    reglist = re.split(regexstring, headerstring)\n",
    "\n",
    "    # Filter entries in reglist\n",
    "        #filter out blank strs\n",
    "    filteredlist = list(filter(None, reglist)) \n",
    "\n",
    "        #filter out items in exclude list\n",
    "    headerslist = []\n",
    "    if exclude:\n",
    "        for entry in filteredlist:\n",
    "            if not entry in exclude:\n",
    "                headerslist.append(entry)\n",
    "    return headerslist\n",
    "\n",
    "def movingstats(series, interval):\n",
    "    movingaverage = []\n",
    "    movingstd = []\n",
    "    for i in range(1,len(series)-interval):\n",
    "        movingaverage.append(series[i:i+interval].mean())\n",
    "        movingstd.append(series[i:i+interval].std())\n",
    "    return (movingaverage, movingstd)\n",
    "\n",
    "def extendingstats(series, startindex):\n",
    "    extendaverage, extendstd = [], []\n",
    "    for n in range(startindex+1, len(series)+1):\n",
    "        extendaverage.append(series[startindex:n].mean())\n",
    "        extendstd.append(series[startindex:n].std())\n",
    "    return (extendaverage, extendstd)\n",
    "\n",
    "headernames = get_headers(filename, 3, r'(?:\" \")|[\"\\)\\(]', ['\\n'])\n",
    "\n",
    "data = pd.read_table(filename, sep=' ', skiprows=3, names=headernames)\n",
    "data.head()\n",
    "\n"
   ]
  },
  {
   "cell_type": "code",
   "execution_count": null,
   "metadata": {
    "scrolled": true
   },
   "outputs": [],
   "source": [
    "data[30000:40001].mean()"
   ]
  },
  {
   "cell_type": "code",
   "execution_count": null,
   "metadata": {
    "scrolled": true
   },
   "outputs": [],
   "source": [
    "data[30000:40001].std()"
   ]
  },
  {
   "cell_type": "code",
   "execution_count": null,
   "metadata": {},
   "outputs": [],
   "source": [
    "staticpressmovavg, staticpressmovstd = movingstats(data['staticpressurerecovery'], 5000)\n",
    "plt.rcParams['figure.figsize'] = [16,7]\n",
    "\n",
    "fig, ax1 = plt.subplots()\n",
    "\n",
    "color = 'tab:red'\n",
    "ax1.set_xlabel('Time Step')\n",
    "ax1.set_ylabel('Static Pressure Recovery Average', color=color)\n",
    "ax1.plot(range(len(staticpressmovavg)), staticpressmovavg, color=color)\n",
    "ax1.tick_params(axis='y', labelcolor=color)\n",
    "\n",
    "ax2 = ax1.twinx()  # instantiate a second axes that shares the same x-axis\n",
    "\n",
    "color = 'tab:blue'\n",
    "ax2.set_ylabel('Static Pressure Recovery Standard Deviation', color=color)  # we already handled the x-label with ax1\n",
    "ax2.plot(range(len(staticpressmovavg)), staticpressmovstd, color=color)\n",
    "ax2.tick_params(axis='y', labelcolor=color)\n",
    "\n",
    "fig.tight_layout()  # otherwise the right y-label is slightly clipped\n",
    "plt.grid()\n",
    "plt.show()\n",
    "    "
   ]
  },
  {
   "cell_type": "code",
   "execution_count": null,
   "metadata": {},
   "outputs": [],
   "source": [
    "staticpressextavg, staticpressextstd = extendingstats(data['staticpressurerecovery'], 20000)\n",
    "plt.rcParams['figure.figsize'] = [16,7]\n",
    "\n",
    "fig, ax1 = plt.subplots()\n",
    "\n",
    "color = 'tab:red'\n",
    "ax1.set_xlabel('Time Step')\n",
    "ax1.set_ylabel('Static Pressure Recovery Average', color=color)\n",
    "ax1.plot(range(len(staticpressextavg)), staticpressextavg, color=color)\n",
    "ax1.tick_params(axis='y', labelcolor=color)\n",
    "\n",
    "ax2 = ax1.twinx()  # instantiate a second axes that shares the same x-axis\n",
    "\n",
    "color = 'tab:blue'\n",
    "ax2.set_ylabel('Static Pressure Recovery Standard Deviation', color=color)  # we already handled the x-label with ax1\n",
    "ax2.plot(range(len(staticpressextstd)), staticpressextstd, color=color)\n",
    "ax2.tick_params(axis='y', labelcolor=color)\n",
    "\n",
    "fig.tight_layout()  # otherwise the right y-label is slightly clipped\n",
    "plt.grid()\n",
    "plt.show()\n",
    "    "
   ]
  },
  {
   "cell_type": "code",
   "execution_count": null,
   "metadata": {
    "scrolled": false
   },
   "outputs": [],
   "source": [
    "plt.rcParams['figure.figsize'] = [16,7]\n",
    "plt.plot(data['flow-time'], data['staticpressurerecovery'])\n",
    "plt.xlabel('Time [s]')\n",
    "plt.ylabel('Static Pressure Recovery [-]')\n",
    "plt.grid()\n",
    "plt.show()"
   ]
  },
  {
   "cell_type": "code",
   "execution_count": null,
   "metadata": {
    "scrolled": false
   },
   "outputs": [],
   "source": [
    "plt.rcParams['figure.figsize'] = [15,7]\n",
    "plt.plot(data['flow-time'], data['massflowdelta'])\n",
    "plt.xlabel('Time [s]')\n",
    "plt.ylabel('MassFlow Imbalance [-]')\n",
    "plt.grid()\n",
    "plt.show()"
   ]
  },
  {
   "cell_type": "code",
   "execution_count": null,
   "metadata": {},
   "outputs": [],
   "source": [
    "plt.rcParams['figure.figsize'] = [15,7]\n",
    "plt.plot( data['flow-time'], data['statpres_avg_diffinlet'], 'b')\n",
    "plt.xlabel('Time [s]')\n",
    "plt.ylabel('Static Pressure [Pa]')\n",
    "plt.grid()\n",
    "plt.show()"
   ]
  },
  {
   "cell_type": "code",
   "execution_count": null,
   "metadata": {},
   "outputs": [],
   "source": [
    "plt.rcParams['figure.figsize'] = [15,7]\n",
    "plt.plot(data['flow-time'][39000:40001], data['statpres_avg_diffinlet'][39000:40001], 'b')\n",
    "plt.xlabel('Time [s]')\n",
    "plt.ylabel('Static Pressure [Pa]')\n",
    "plt.grid()\n",
    "plt.show()"
   ]
  }
 ],
 "metadata": {
  "kernelspec": {
   "display_name": "Python 3",
   "language": "python",
   "name": "python3"
  },
  "language_info": {
   "codemirror_mode": {
    "name": "ipython",
    "version": 3
   },
   "file_extension": ".py",
   "mimetype": "text/x-python",
   "name": "python",
   "nbconvert_exporter": "python",
   "pygments_lexer": "ipython3",
   "version": "3.6.6"
  }
 },
 "nbformat": 4,
 "nbformat_minor": 2
}
